{
 "cells": [
  {
   "cell_type": "markdown",
   "id": "4b76beb5",
   "metadata": {},
   "source": [
    "## ETL Process for Synthetic Retail Data"
   ]
  },
  {
   "cell_type": "code",
   "execution_count": 2,
   "id": "03745504",
   "metadata": {},
   "outputs": [
    {
     "name": "stderr",
     "output_type": "stream",
     "text": [
      "\n",
      "[notice] A new release of pip is available: 25.0.1 -> 25.2\n",
      "[notice] To update, run: C:\\Users\\Admin\\AppData\\Local\\Microsoft\\WindowsApps\\PythonSoftwareFoundation.Python.3.12_qbz5n2kfra8p0\\python.exe -m pip install --upgrade pip\n"
     ]
    },
    {
     "name": "stdout",
     "output_type": "stream",
     "text": [
      "Defaulting to user installation because normal site-packages is not writeable\n",
      "Collecting faker\n",
      "  Downloading faker-37.5.3-py3-none-any.whl.metadata (15 kB)\n",
      "Requirement already satisfied: tzdata in c:\\users\\admin\\appdata\\local\\packages\\pythonsoftwarefoundation.python.3.12_qbz5n2kfra8p0\\localcache\\local-packages\\python312\\site-packages (from faker) (2024.1)\n",
      "Downloading faker-37.5.3-py3-none-any.whl (1.9 MB)\n",
      "   ---------------------------------------- 0.0/1.9 MB ? eta -:--:--\n",
      "   ---------------------------------------- 0.0/1.9 MB ? eta -:--:--\n",
      "   ---------------------------------------- 0.0/1.9 MB ? eta -:--:--\n",
      "   ---------- ----------------------------- 0.5/1.9 MB 1.7 MB/s eta 0:00:01\n",
      "   --------------------- ------------------ 1.0/1.9 MB 2.3 MB/s eta 0:00:01\n",
      "   -------------------------------- ------- 1.6/1.9 MB 2.4 MB/s eta 0:00:01\n",
      "   ---------------------------------------- 1.9/1.9 MB 2.3 MB/s eta 0:00:00\n",
      "Installing collected packages: faker\n",
      "Successfully installed faker-37.5.3\n"
     ]
    }
   ],
   "source": [
    "!pip install faker\n"
   ]
  },
  {
   "cell_type": "code",
   "execution_count": 3,
   "id": "613cdad3",
   "metadata": {},
   "outputs": [],
   "source": [
    "#Import necessary libraries\n",
    "import pandas as pd\n",
    "import numpy as np\n",
    "import sqlite3\n",
    "import logging\n",
    "from faker import Faker\n",
    "from datetime import datetime, timedelta"
   ]
  },
  {
   "cell_type": "code",
   "execution_count": 5,
   "id": "b22cf858",
   "metadata": {},
   "outputs": [
    {
     "name": "stderr",
     "output_type": "stream",
     "text": [
      "2025-08-12 17:25:57,077 - INFO - Starting ETL process...\n",
      "2025-08-12 17:25:57,080 - INFO - Generating synthetic data...\n",
      "2025-08-12 17:25:57,237 - INFO - Generated 1000 rows.\n",
      "2025-08-12 17:25:57,310 - INFO - Saved raw data to retail_sales.csv\n",
      "2025-08-12 17:25:57,327 - INFO - Transforming data...\n",
      "2025-08-12 17:25:57,343 - INFO - Filtered 498 rows for the last year.\n",
      "2025-08-12 17:25:57,393 - INFO - Loading data into SQLite database...\n",
      "2025-08-12 17:25:57,494 - INFO - ETL process completed successfully.\n"
     ]
    }
   ],
   "source": [
    "# ----------------------------\n",
    "# Setup logging\n",
    "# ----------------------------\n",
    "import pandas as pd\n",
    "import numpy as np\n",
    "import sqlite3\n",
    "import logging\n",
    "from datetime import datetime, timedelta\n",
    "from faker import Faker  # make sure you have installed this: pip install faker\n",
    "\n",
    "logging.basicConfig(level=logging.INFO, format=\"%(asctime)s - %(levelname)s - %(message)s\")\n",
    "\n",
    "# ----------------------------\n",
    "# Generate synthetic data\n",
    "# ----------------------------\n",
    "def generate_synthetic_data(num_rows=1000, num_customers=100):\n",
    "    fake = Faker()\n",
    "    Faker.seed(42)\n",
    "    np.random.seed(42)\n",
    "\n",
    "    customer_ids = [f\"CUST{str(i).zfill(3)}\" for i in range(1, num_customers+1)]\n",
    "    countries = [\"USA\", \"UK\", \"Germany\", \"France\", \"Canada\", \"Australia\", \"Japan\", \"Brazil\"]\n",
    "    products = [f\"Product_{i}\" for i in range(1, 21)]\n",
    "    categories = [\"Electronics\", \"Clothing\", \"Home\", \"Toys\"]\n",
    "\n",
    "    data = []\n",
    "    for _ in range(num_rows):\n",
    "        cust_id = np.random.choice(customer_ids)\n",
    "        country = np.random.choice(countries)\n",
    "        product = np.random.choice(products)\n",
    "        category = np.random.choice(categories)\n",
    "        quantity = np.random.randint(1, 51)\n",
    "        unit_price = np.random.randint(1, 101)\n",
    "        invoice_date = datetime.today() - timedelta(days=np.random.randint(0, 730))  # last 2 years\n",
    "        data.append([cust_id, country, product, category, quantity, unit_price, invoice_date])\n",
    "\n",
    "    df = pd.DataFrame(data, columns=[\"CustomerID\", \"Country\", \"Product\", \"Category\", \"Quantity\", \"UnitPrice\", \"InvoiceDate\"])\n",
    "    return df\n",
    "\n",
    "# ----------------------------\n",
    "# ETL Process\n",
    "# ----------------------------\n",
    "def etl_process():\n",
    "    logging.info(\"Starting ETL process...\")\n",
    "\n",
    "    # Extract\n",
    "    logging.info(\"Generating synthetic data...\")\n",
    "    df = generate_synthetic_data()\n",
    "    logging.info(f\"Generated {len(df)} rows.\")\n",
    "\n",
    "    # ✅ Save to CSV before transformations\n",
    "    df.to_csv(\"retail_sales.csv\", index=False)\n",
    "    logging.info(\"Saved raw data to retail_sales.csv\")\n",
    "\n",
    "    # Handle missing values\n",
    "    df.dropna(inplace=True)\n",
    "\n",
    "    # Ensure correct data types\n",
    "    df[\"InvoiceDate\"] = pd.to_datetime(df[\"InvoiceDate\"])\n",
    "\n",
    "    # Transform\n",
    "    logging.info(\"Transforming data...\")\n",
    "    df = df[(df[\"Quantity\"] > 0) & (df[\"UnitPrice\"] > 0)]  # remove outliers\n",
    "    df[\"TotalSales\"] = df[\"Quantity\"] * df[\"UnitPrice\"]\n",
    "\n",
    "    # Filter last year\n",
    "    cutoff_date = datetime(2024, 8, 12)\n",
    "    df_last_year = df[df[\"InvoiceDate\"] >= cutoff_date]\n",
    "    logging.info(f\"Filtered {len(df_last_year)} rows for the last year.\")\n",
    "\n",
    "    # Create customer dimension\n",
    "    customer_dim = df.groupby([\"CustomerID\", \"Country\"], as_index=False).agg(\n",
    "        TotalPurchases=(\"TotalSales\", \"sum\"),\n",
    "        Orders=(\"CustomerID\", \"count\")\n",
    "    )\n",
    "\n",
    "    # Create time dimension\n",
    "    time_dim = pd.DataFrame({\n",
    "        \"InvoiceDate\": pd.to_datetime(df[\"InvoiceDate\"].unique())\n",
    "    })\n",
    "    time_dim[\"Year\"] = time_dim[\"InvoiceDate\"].dt.year\n",
    "    time_dim[\"Quarter\"] = time_dim[\"InvoiceDate\"].dt.quarter\n",
    "    time_dim[\"Month\"] = time_dim[\"InvoiceDate\"].dt.month\n",
    "    time_dim[\"Day\"] = time_dim[\"InvoiceDate\"].dt.day\n",
    "    time_dim.reset_index(drop=True, inplace=True)\n",
    "    time_dim[\"TimeID\"] = time_dim.index + 1\n",
    "\n",
    "    # Map TimeID back to sales fact\n",
    "    df[\"TimeID\"] = df[\"InvoiceDate\"].map(\n",
    "        time_dim.set_index(\"InvoiceDate\")[\"TimeID\"]\n",
    "    )\n",
    "\n",
    "    # Load\n",
    "    logging.info(\"Loading data into SQLite database...\")\n",
    "    conn = sqlite3.connect(\"retail_dw.db\")\n",
    "    customer_dim.to_sql(\"CustomerDim\", conn, if_exists=\"replace\", index=False)\n",
    "    time_dim.to_sql(\"TimeDim\", conn, if_exists=\"replace\", index=False)\n",
    "\n",
    "    fact_sales = df[[\"CustomerID\", \"Product\", \"Category\", \"Quantity\", \"UnitPrice\", \"TotalSales\", \"TimeID\"]]\n",
    "    fact_sales.to_sql(\"SalesFact\", conn, if_exists=\"replace\", index=False)\n",
    "\n",
    "    conn.close()\n",
    "    logging.info(\"ETL process completed successfully.\")\n",
    "\n",
    "# ----------------------------\n",
    "# Run ETL\n",
    "# ----------------------------\n",
    "if __name__ == \"__main__\":\n",
    "    etl_process()\n"
   ]
  }
 ],
 "metadata": {
  "kernelspec": {
   "display_name": "Python 3",
   "language": "python",
   "name": "python3"
  },
  "language_info": {
   "codemirror_mode": {
    "name": "ipython",
    "version": 3
   },
   "file_extension": ".py",
   "mimetype": "text/x-python",
   "name": "python",
   "nbconvert_exporter": "python",
   "pygments_lexer": "ipython3",
   "version": "3.12.10"
  }
 },
 "nbformat": 4,
 "nbformat_minor": 5
}
