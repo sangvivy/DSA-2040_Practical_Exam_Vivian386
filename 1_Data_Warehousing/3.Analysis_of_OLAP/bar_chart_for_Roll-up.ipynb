{
 "cells": [
  {
   "cell_type": "code",
   "execution_count": null,
   "id": "6f622e22",
   "metadata": {},
   "outputs": [],
   "source": [
    "import sqlite3\n",
    "import pandas as pd\n",
    "import matplotlib.pyplot as plt\n",
    "\n",
    "# Connect to DW\n",
    "conn = sqlite3.connect(\"retail_dw.db\")\n",
    "\n",
    "query = \"\"\"\n",
    "SELECT c.Country, t.Year, t.Quarter, SUM(f.TotalSales) AS TotalSales\n",
    "FROM SalesFact f\n",
    "JOIN CustomerDim c ON f.CustomerID = c.CustomerID\n",
    "JOIN TimeDim t ON f.TimeID = t.TimeID\n",
    "GROUP BY c.Country, t.Year, t.Quarter\n",
    "ORDER BY c.Country, t.Year, t.Quarter;\n",
    "\"\"\"\n",
    "\n",
    "df = pd.read_sql_query(query, conn)\n",
    "conn.close()\n",
    "\n",
    "# Plot\n",
    "plt.figure(figsize=(10, 6))\n",
    "for year in df[\"Year\"].unique():\n",
    "    subset = df[df[\"Year\"] == year]\n",
    "    plt.bar(subset[\"Country\"] + \" Q\" + subset[\"Quarter\"].astype(str), subset[\"TotalSales\"], label=str(year))\n",
    "\n",
    "plt.title(\"Total Sales by Country & Quarter\")\n",
    "plt.xticks(rotation=45)\n",
    "plt.ylabel(\"Total Sales\")\n",
    "plt.legend()\n",
    "plt.tight_layout()\n",
    "\n",
    "# Save image\n",
    "plt.savefig(\"sales_by_country_quarter.png\")\n",
    "plt.show()\n"
   ]
  }
 ],
 "metadata": {
  "kernelspec": {
   "display_name": "Python 3",
   "language": "python",
   "name": "python3"
  },
  "language_info": {
   "codemirror_mode": {
    "name": "ipython",
    "version": 3
   },
   "file_extension": ".py",
   "mimetype": "text/x-python",
   "name": "python",
   "nbconvert_exporter": "python",
   "pygments_lexer": "ipython3",
   "version": "3.12.10"
  }
 },
 "nbformat": 4,
 "nbformat_minor": 5
}
